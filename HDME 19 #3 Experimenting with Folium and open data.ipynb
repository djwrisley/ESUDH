{
 "cells": [
  {
   "cell_type": "markdown",
   "metadata": {},
   "source": [
    "## HDME 2019 #3 : Experimenting with Folium and open data"
   ]
  },
  {
   "cell_type": "markdown",
   "metadata": {},
   "source": [
    "## In this notebook we are going to experiment with the Folium library.  It allows us to work with spatial data with Python in an integrated development environment (IDE) like Jupyter.\n",
    "\n",
    "I have adapted his notebook from https://python-visualization.github.io/folium/quickstart.html\n",
    "\n",
    "This notebook assumes that \n",
    "    you have installed Python3\n",
    "    you have installed Folium, and that \n",
    "    you have an API key from MapBox and Google. "
   ]
  },
  {
   "cell_type": "markdown",
   "metadata": {},
   "source": [
    "Let's \"make a map\" and center it on a specific latlong value, those of the GWZ, the site of the ESU in Leipzig, 51.332166, 12.368505."
   ]
  },
  {
   "cell_type": "code",
   "execution_count": null,
   "metadata": {},
   "outputs": [],
   "source": [
    "import folium\n",
    "\n",
    "m = folium.Map(location=[51.332166, 12.368505])\n",
    "\n",
    "# If you use the hashtag, you are \"commenting out\" the code of this box.  It allows for you to make notes.\n"
   ]
  },
  {
   "cell_type": "markdown",
   "metadata": {},
   "source": [
    "## The map exists now, but you have not visualized it. "
   ]
  },
  {
   "cell_type": "code",
   "execution_count": 2,
   "metadata": {
    "scrolled": true
   },
   "outputs": [
    {
     "data": {
      "text/html": [
       "<div style=\"width:100%;\"><div style=\"position:relative;width:100%;height:0;padding-bottom:60%;\"><iframe src=\"data:text/html;charset=utf-8;base64,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\" style=\"position:absolute;width:100%;height:100%;left:0;top:0;border:none !important;\" allowfullscreen webkitallowfullscreen mozallowfullscreen></iframe></div></div>"
      ],
      "text/plain": [
       "<folium.folium.Map at 0x10cd614e0>"
      ]
     },
     "execution_count": 2,
     "metadata": {},
     "output_type": "execute_result"
    }
   ],
   "source": [
    "# visualize the map, by calling up the variable you created above \n",
    "\n",
    "m"
   ]
  },
  {
   "cell_type": "markdown",
   "metadata": {},
   "source": [
    "Copy in the code above and recenter the map on another point of your choice."
   ]
  },
  {
   "cell_type": "code",
   "execution_count": null,
   "metadata": {},
   "outputs": [],
   "source": []
  },
  {
   "cell_type": "markdown",
   "metadata": {},
   "source": [
    "Let's save this map as an html file that we can run in the browser. It will be put in the same folder as this .pynb file.  Try to open it the html the browser. notice that the center point is still the same, the GWZ"
   ]
  },
  {
   "cell_type": "code",
   "execution_count": 3,
   "metadata": {},
   "outputs": [],
   "source": [
    "\n",
    "m.save('map.html')\n"
   ]
  },
  {
   "cell_type": "markdown",
   "metadata": {},
   "source": [
    "## Choose your map bases"
   ]
  },
  {
   "cell_type": "markdown",
   "metadata": {},
   "source": [
    "Now we are going to change our base map to a different option from what we used above.  \n",
    "\n",
    "Free map bases available: OpenStreetMap, stamenterrain, stamentoner, stamenwatercolor, cartodbdark_matter, cartodbpositron\n"
   ]
  },
  {
   "cell_type": "code",
   "execution_count": 30,
   "metadata": {
    "scrolled": true
   },
   "outputs": [
    {
     "data": {
      "text/html": [
       "<div style=\"width:100%;\"><div style=\"position:relative;width:100%;height:0;padding-bottom:60%;\"><iframe src=\"data:text/html;charset=utf-8;base64,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\" style=\"position:absolute;width:100%;height:100%;left:0;top:0;border:none !important;\" allowfullscreen webkitallowfullscreen mozallowfullscreen></iframe></div></div>"
      ],
      "text/plain": [
       "<folium.folium.Map at 0x1a235b10b8>"
      ]
     },
     "execution_count": 30,
     "metadata": {},
     "output_type": "execute_result"
    }
   ],
   "source": [
    "folium.Map(\n",
    "    location=[51.332166, 12.368505],\n",
    "    tiles='stamenwatercolor',\n",
    "    zoom_start=13\n",
    ")"
   ]
  },
  {
   "cell_type": "markdown",
   "metadata": {},
   "source": [
    "Are the map tiles appropriate for what you would like to represent?\n",
    "\n",
    "Copy in the code above and recenter the map on another place in the world. Change the base map."
   ]
  },
  {
   "cell_type": "code",
   "execution_count": null,
   "metadata": {},
   "outputs": [],
   "source": []
  },
  {
   "cell_type": "code",
   "execution_count": 31,
   "metadata": {},
   "outputs": [
    {
     "data": {
      "text/html": [
       "<div style=\"width:100%;\"><div style=\"position:relative;width:100%;height:0;padding-bottom:60%;\"><iframe src=\"data:text/html;charset=utf-8;base64,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\" style=\"position:absolute;width:100%;height:100%;left:0;top:0;border:none !important;\" allowfullscreen webkitallowfullscreen mozallowfullscreen></iframe></div></div>"
      ],
      "text/plain": [
       "<folium.folium.Map at 0x1a22965080>"
      ]
     },
     "execution_count": 31,
     "metadata": {},
     "output_type": "execute_result"
    }
   ],
   "source": [
    "# Try to import a georeferenced map using the XYZ tiles from Map Warper https://mapwarper.net/maps/22099#Export_tab\n",
    "\n",
    "folium.Map(location=[51.340705, 12.380139],\n",
    "           zoom_start=14,\n",
    "           tiles='https://mapwarper.net/maps/tile/22099/{z}/{x}/{y}.png',\n",
    "           attr='My Data Attribution')\n",
    "\n",
    "# Why did the geocoordinates change? \n",
    "# Can you change the data attribution to cite your sources? "
   ]
  },
  {
   "cell_type": "markdown",
   "metadata": {},
   "source": [
    "## Adding points to the map "
   ]
  },
  {
   "cell_type": "code",
   "execution_count": 32,
   "metadata": {},
   "outputs": [
    {
     "data": {
      "text/html": [
       "<div style=\"width:100%;\"><div style=\"position:relative;width:100%;height:0;padding-bottom:60%;\"><iframe src=\"data:text/html;charset=utf-8;base64,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\" style=\"position:absolute;width:100%;height:100%;left:0;top:0;border:none !important;\" allowfullscreen webkitallowfullscreen mozallowfullscreen></iframe></div></div>"
      ],
      "text/plain": [
       "<folium.folium.Map at 0x1a2347ed68>"
      ]
     },
     "execution_count": 32,
     "metadata": {},
     "output_type": "execute_result"
    }
   ],
   "source": [
    "m = folium.Map(\n",
    "    location=[51.340705, 12.380139],\n",
    "    zoom_start=14,\n",
    "    tiles='https://mapwarper.net/maps/tile/22099/{z}/{x}/{y}.png',\n",
    "           attr='My Data Attribution')\n",
    "\n",
    "tooltip = 'Click me!'\n",
    "\n",
    "folium.Marker([51.332166, 12.368505], popup='<i>GWZ</i>', tooltip=tooltip).add_to(m)\n",
    "folium.Marker([51.332166, 12.368505], popup='<b>Site of the 2019 ESU</b>', tooltip=tooltip).add_to(m)\n",
    "\n",
    "m\n"
   ]
  },
  {
   "cell_type": "markdown",
   "metadata": {},
   "source": [
    "\n",
    "What was the GWZ at the time of the creation of this map? \n"
   ]
  },
  {
   "cell_type": "markdown",
   "metadata": {},
   "source": [
    "Based on what you know now, choose another xyz map layer from Map Warper, add one glyph manually and insert content in the popup box."
   ]
  },
  {
   "cell_type": "code",
   "execution_count": null,
   "metadata": {},
   "outputs": [],
   "source": []
  },
  {
   "cell_type": "markdown",
   "metadata": {},
   "source": [
    "## Now, we will start working with datasets in csv format"
   ]
  },
  {
   "cell_type": "markdown",
   "metadata": {},
   "source": [
    "We need to import a few libraries that will help us work with datasets."
   ]
  },
  {
   "cell_type": "code",
   "execution_count": 33,
   "metadata": {},
   "outputs": [],
   "source": [
    "import pandas as pd\n",
    "import matplotlib.pyplot as plt\n",
    "import seaborn as sns\n",
    "\n",
    "%matplotlib inline"
   ]
  },
  {
   "cell_type": "markdown",
   "metadata": {},
   "source": [
    "## The next set of exercises will use data available on the web in csv format. "
   ]
  },
  {
   "cell_type": "markdown",
   "metadata": {},
   "source": [
    "Let's take a look at Leipzig OpenData  opendata.leipzig.de\n",
    "\n",
    "We will work with a list of mobile libraries in the Leipzig metro area, the \"Geo-Koordinaten der Haltestellen Fahrbibliothek\" dataset. \n",
    "\n",
    "We define a variable using the full URL of the dataset, and then with pandas we \"read\" the csv file and print out the \"head\" of it (meaning, the top rows). "
   ]
  },
  {
   "cell_type": "code",
   "execution_count": 34,
   "metadata": {},
   "outputs": [
    {
     "data": {
      "text/html": [
       "<div>\n",
       "<style scoped>\n",
       "    .dataframe tbody tr th:only-of-type {\n",
       "        vertical-align: middle;\n",
       "    }\n",
       "\n",
       "    .dataframe tbody tr th {\n",
       "        vertical-align: top;\n",
       "    }\n",
       "\n",
       "    .dataframe thead th {\n",
       "        text-align: right;\n",
       "    }\n",
       "</style>\n",
       "<table border=\"1\" class=\"dataframe\">\n",
       "  <thead>\n",
       "    <tr style=\"text-align: right;\">\n",
       "      <th></th>\n",
       "      <th>Haltestelle</th>\n",
       "      <th>Standort</th>\n",
       "      <th>E_(Rechtswert_Gauß-Krüger)</th>\n",
       "      <th>N_(Hochwert_Gauß-Krüger)</th>\n",
       "      <th>E_(Lon_Dezimalgrad)</th>\n",
       "      <th>N_(Lat_Dezimalgrad)</th>\n",
       "    </tr>\n",
       "  </thead>\n",
       "  <tbody>\n",
       "    <tr>\n",
       "      <th>0</th>\n",
       "      <td>Engelsdorf</td>\n",
       "      <td>An der Grundschule</td>\n",
       "      <td>4534091.319</td>\n",
       "      <td>5689711.075</td>\n",
       "      <td>12.487721</td>\n",
       "      <td>51.341175</td>\n",
       "    </tr>\n",
       "    <tr>\n",
       "      <th>1</th>\n",
       "      <td>Engelsdorf</td>\n",
       "      <td>Schulweg/Getränkemarkt</td>\n",
       "      <td>4533667.037</td>\n",
       "      <td>5689006.901</td>\n",
       "      <td>12.481566</td>\n",
       "      <td>51.334871</td>\n",
       "    </tr>\n",
       "    <tr>\n",
       "      <th>2</th>\n",
       "      <td>Eutritzsch</td>\n",
       "      <td>Eutritzscher Markt</td>\n",
       "      <td>4526959.681</td>\n",
       "      <td>5692720.534</td>\n",
       "      <td>12.385604</td>\n",
       "      <td>51.368606</td>\n",
       "    </tr>\n",
       "    <tr>\n",
       "      <th>3</th>\n",
       "      <td>Großzschocher</td>\n",
       "      <td>Anton-Zickmantel-Straße/Ecke Breitschuhstraße</td>\n",
       "      <td>4522910.177</td>\n",
       "      <td>5685318.681</td>\n",
       "      <td>12.326982</td>\n",
       "      <td>51.302253</td>\n",
       "    </tr>\n",
       "    <tr>\n",
       "      <th>4</th>\n",
       "      <td>Knauthain</td>\n",
       "      <td>Seumestraße/Ecke Ritter-Pflugk-Straße</td>\n",
       "      <td>4521881.934</td>\n",
       "      <td>5682178.930</td>\n",
       "      <td>12.312047</td>\n",
       "      <td>51.274072</td>\n",
       "    </tr>\n",
       "  </tbody>\n",
       "</table>\n",
       "</div>"
      ],
      "text/plain": [
       "     Haltestelle                                       Standort  \\\n",
       "0     Engelsdorf                             An der Grundschule   \n",
       "1     Engelsdorf                         Schulweg/Getränkemarkt   \n",
       "2     Eutritzsch                             Eutritzscher Markt   \n",
       "3  Großzschocher  Anton-Zickmantel-Straße/Ecke Breitschuhstraße   \n",
       "4      Knauthain          Seumestraße/Ecke Ritter-Pflugk-Straße   \n",
       "\n",
       "   E_(Rechtswert_Gauß-Krüger)  N_(Hochwert_Gauß-Krüger)  E_(Lon_Dezimalgrad)  \\\n",
       "0                 4534091.319               5689711.075            12.487721   \n",
       "1                 4533667.037               5689006.901            12.481566   \n",
       "2                 4526959.681               5692720.534            12.385604   \n",
       "3                 4522910.177               5685318.681            12.326982   \n",
       "4                 4521881.934               5682178.930            12.312047   \n",
       "\n",
       "   N_(Lat_Dezimalgrad)  \n",
       "0            51.341175  \n",
       "1            51.334871  \n",
       "2            51.368606  \n",
       "3            51.302253  \n",
       "4            51.274072  "
      ]
     },
     "execution_count": 34,
     "metadata": {},
     "output_type": "execute_result"
    }
   ],
   "source": [
    "\n",
    "url = 'https://opendata.leipzig.de/dataset/19b8f22d-5453-4a6b-abe9-e06738381003/resource/c891acd0-46e9-43b5-9b7f-abd82dad601e/download/fahrbibliothekhaltestellengeodatengaussdg.csv'\n",
    "\n",
    "df = pd.read_csv(url)\n",
    "df.head()\n"
   ]
  },
  {
   "cell_type": "markdown",
   "metadata": {},
   "source": [
    "Now, let's add that data to the map, by specifying which columns are the latlongs.  \n",
    "\n",
    "We will add a custom icon and information into the popup box. \n"
   ]
  },
  {
   "cell_type": "code",
   "execution_count": 35,
   "metadata": {},
   "outputs": [
    {
     "data": {
      "text/html": [
       "<div style=\"width:100%;\"><div style=\"position:relative;width:100%;height:0;padding-bottom:60%;\"><iframe src=\"data:text/html;charset=utf-8;base64,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\" style=\"position:absolute;width:100%;height:100%;left:0;top:0;border:none !important;\" allowfullscreen webkitallowfullscreen mozallowfullscreen></iframe></div></div>"
      ],
      "text/plain": [
       "<folium.folium.Map at 0x1a2353e7b8>"
      ]
     },
     "execution_count": 35,
     "metadata": {},
     "output_type": "execute_result"
    }
   ],
   "source": [
    "\n",
    "p = folium.Map(\n",
    "    location=[51.332166, 12.368505],\n",
    "    tiles='cartodbpositron',\n",
    "    zoom_start=11\n",
    ")\n",
    "\n",
    "for index, row in df.iterrows():\n",
    "    folium.Marker([row['N_(Lat_Dezimalgrad)'], row['E_(Lon_Dezimalgrad)']], \n",
    "                  popup=row['Standort'],\n",
    "                  icon=folium.Icon(icon='book')\n",
    "                 ).add_to(p)\n",
    "\n",
    "p\n"
   ]
  },
  {
   "cell_type": "markdown",
   "metadata": {},
   "source": [
    "### Notice how the pop up box is created. Change it to pull data from the name of the mobile library and not the street address. Some custom icons can be found at https://fontawesome.com/icons?d=gallery\n",
    "\n"
   ]
  },
  {
   "cell_type": "code",
   "execution_count": null,
   "metadata": {},
   "outputs": [],
   "source": []
  },
  {
   "cell_type": "markdown",
   "metadata": {},
   "source": [
    "Let's try another culture dataset, that of the places mentioned in the corpus of Christine de Pizan\n"
   ]
  },
  {
   "cell_type": "markdown",
   "metadata": {},
   "source": [
    "Create a new map. "
   ]
  },
  {
   "cell_type": "code",
   "execution_count": null,
   "metadata": {},
   "outputs": [],
   "source": []
  }
 ],
 "metadata": {
  "kernelspec": {
   "display_name": "Python 3",
   "language": "python",
   "name": "python3"
  },
  "language_info": {
   "codemirror_mode": {
    "name": "ipython",
    "version": 3
   },
   "file_extension": ".py",
   "mimetype": "text/x-python",
   "name": "python",
   "nbconvert_exporter": "python",
   "pygments_lexer": "ipython3",
   "version": "3.7.3"
  }
 },
 "nbformat": 4,
 "nbformat_minor": 2
}
